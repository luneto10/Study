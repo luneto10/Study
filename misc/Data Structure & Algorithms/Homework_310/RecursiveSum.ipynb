{
 "cells": [
  {
   "cell_type": "markdown",
   "metadata": {},
   "source": [
    "## Consider the below recursive algorithm for computing the sum of the first $n$ cubes: $S(n) = 1^3 + 2^3 + \\dots + n^3$.\n",
    "\n",
    "Set up and solve a recurrence relation for the number of times the algorithm’s basic operation (i.e., multiplication) is executed."
   ]
  },
  {
   "cell_type": "code",
   "execution_count": 17,
   "metadata": {},
   "outputs": [
    {
     "data": {
      "text/plain": [
       "9"
      ]
     },
     "execution_count": 17,
     "metadata": {},
     "output_type": "execute_result"
    }
   ],
   "source": [
    "def sumCubicRec(n):\n",
    "    if n < 1:\n",
    "        return 0\n",
    "    return n*n*n + sumCubicRec(n-1)\n",
    "\n",
    "sumCubicRec(2)"
   ]
  },
  {
   "cell_type": "code",
   "execution_count": 18,
   "metadata": {},
   "outputs": [
    {
     "data": {
      "text/plain": [
       "36"
      ]
     },
     "execution_count": 18,
     "metadata": {},
     "output_type": "execute_result"
    }
   ],
   "source": [
    "def sumCubic(n):\n",
    "    total = 0\n",
    "    for i in range(n+1):\n",
    "        total += i*i*i\n",
    "    return total\n",
    "sumCubic(3)"
   ]
  },
  {
   "cell_type": "code",
   "execution_count": 1,
   "metadata": {},
   "outputs": [],
   "source": [
    "class Node:\n",
    "    def __init__(self, v):\n",
    "        self.val = v\n",
    "        self.left = None\n",
    "        self.right = None\n",
    "    def __str__(self):\n",
    "        return str(self.val)\n",
    "\n",
    "class Solution:\n",
    "    def postorderTraversal(self, root):\n",
    "        stack = [root]\n",
    "        root = root.left\n",
    "        result = []\n",
    "        while stack:\n",
    "            while root.left != None:\n",
    "                stack.append(root)\n",
    "                root = root.left\n",
    "            \n",
    "            while root.left != None:\n",
    "                stack.append(root)\n",
    "                root = root.left\n",
    "            result.append(root.val)\n",
    "            root = stack.pop()\n",
    "root = Node(1)\n",
    "root.left = Node(2)\n",
    "root.right = Node(3)\n",
    "root.left.left = Node(4)\n",
    "root.left.right = Node(5)\n",
    "root.right.right = Node(6)\n",
    "\n",
    "s = Solution()\n",
    "s.postorderTraversal(root)"
   ]
  }
 ],
 "metadata": {
  "kernelspec": {
   "display_name": "Python 3",
   "language": "python",
   "name": "python3"
  },
  "language_info": {
   "codemirror_mode": {
    "name": "ipython",
    "version": 3
   },
   "file_extension": ".py",
   "mimetype": "text/x-python",
   "name": "python",
   "nbconvert_exporter": "python",
   "pygments_lexer": "ipython3",
   "version": "3.12.5"
  }
 },
 "nbformat": 4,
 "nbformat_minor": 2
}
