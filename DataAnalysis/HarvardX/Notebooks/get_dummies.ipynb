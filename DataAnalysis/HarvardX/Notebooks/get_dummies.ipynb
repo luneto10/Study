{
 "cells": [
  {
   "cell_type": "code",
   "execution_count": null,
   "metadata": {},
   "outputs": [],
   "source": [
    "import numpy as np\n",
    "import pandas as pd\n",
    "import seaborn as sns\n",
    "import matplotlib.pyplot as plt\n",
    "from sklearn.metrics import mean_squared_error\n",
    "from sklearn.linear_model import LinearRegression\n",
    "from sklearn.model_selection import train_test_split"
   ]
  },
  {
   "cell_type": "code",
   "execution_count": null,
   "metadata": {},
   "outputs": [],
   "source": [
    "x_train, x_test, y_train, y_test = train_test_split(x, y, test_size=0.2, random_state=42)"
   ]
  },
  {
   "cell_type": "code",
   "execution_count": null,
   "metadata": {},
   "outputs": [],
   "source": [
    "### edTest(test_design) ###\n",
    "# Create x train and test design matrices creating dummy variables for the categorical.\n",
    "# hint: use pd.get_dummies() with the drop_first hyperparameter for this\n",
    "x_train_design = pd.get_dummies(x_train, drop_first=True)\n",
    "x_test_design = pd.get_dummies(x_test, drop_first=True)\n",
    "x_train_design.head()"
   ]
  },
  {
   "cell_type": "code",
   "execution_count": null,
   "metadata": {},
   "outputs": [],
   "source": [
    "x_train_design.dtypes"
   ]
  },
  {
   "cell_type": "code",
   "execution_count": null,
   "metadata": {},
   "outputs": [],
   "source": [
    "### edTest(test_model2) ###\n",
    "# Fit model2 on design matrix\n",
    "model2 = LinearRegression().fit(x_train_design, y_train)\n",
    "\n",
    "# Report train and test R2 scores\n",
    "train_score = model2.score(x_train_design, y_train)\n",
    "test_score = model2.score(x_test_design, y_test)\n",
    "print('Train R2:', train_score)\n",
    "print('Test R2:', test_score)"
   ]
  }
 ],
 "metadata": {
  "kernelspec": {
   "display_name": "HarvardX-fdAnR-vF",
   "language": "python",
   "name": "python3"
  },
  "language_info": {
   "codemirror_mode": {
    "name": "ipython",
    "version": 3
   },
   "file_extension": ".py",
   "mimetype": "text/x-python",
   "name": "python",
   "nbconvert_exporter": "python",
   "pygments_lexer": "ipython3",
   "version": "3.8.10"
  }
 },
 "nbformat": 4,
 "nbformat_minor": 2
}
