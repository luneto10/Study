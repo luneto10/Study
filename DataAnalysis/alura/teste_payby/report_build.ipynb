{
 "cells": [
  {
   "cell_type": "code",
   "execution_count": 1,
   "metadata": {},
   "outputs": [],
   "source": [
    "from openpyxl import Workbook\n",
    "wb = Workbook()\n",
    "ws = wb.active\n",
    "\n",
    "headers = [\n",
    "    'charge_id',\n",
    "    'created_at',\n",
    "    'amount',\n",
    "    'split_payby_amount',\n",
    "    'split_store_amount', \n",
    "    'payment_method',\n",
    "    'status',\n",
    "    'antifraud_status',\n",
    "    'antifraud_score',\n",
    "    \n",
    "    'order_id',\n",
    "    'order_status',\n",
    "    \n",
    "    'customer_id',\n",
    "    'customer_name',\n",
    "    'customer_document',\n",
    "    'customer_email',\n",
    "    \n",
    "    'payby_recipient_id',\n",
    "    'payby_recipient_name',\n",
    "    'rest_recipient_id',\n",
    "    'rest_recipient_name',\n",
    "    'recipient_document',\n",
    "    \n",
    "    'pix_payer_name',\n",
    "    'pix_payer_document',\n",
    "    'bank_name',\n",
    "    \n",
    "    'card_id',\n",
    "    'brand',\n",
    "    'first_six_digits',\n",
    "    'last_four_digits',\n",
    "    'holder_name',\n",
    "    \n",
    "    'success_token',\n",
    "    'store_name',\n",
    "]"
   ]
  },
  {
   "cell_type": "code",
   "execution_count": 2,
   "metadata": {},
   "outputs": [
    {
     "name": "stdout",
     "output_type": "stream",
     "text": [
      "[('1d321', 20), ('banana', 20), ('cherry', 15), ('id123', 10), ('elderberry', 5)]\n"
     ]
    }
   ],
   "source": [
    "data = {\n",
    "    'id123': 10,\n",
    "    'banana': 20,\n",
    "    'cherry': 15,\n",
    "    '1d321': 20,\n",
    "    'elderberry': 5\n",
    "}\n",
    "\n",
    "# Sorting by values in descending order and by keys in ascending order if values are tied\n",
    "sorted_items = sorted(data.items(), key=lambda item: (-item[1], item[0]))\n",
    "print(sorted_items)"
   ]
  },
  {
   "cell_type": "code",
   "execution_count": null,
   "metadata": {},
   "outputs": [],
   "source": []
  },
  {
   "cell_type": "code",
   "execution_count": 2,
   "metadata": {},
   "outputs": [],
   "source": []
  },
  {
   "cell_type": "code",
   "execution_count": null,
   "metadata": {},
   "outputs": [],
   "source": [
    "for charge in Charge.objects.all():\n",
    "    row = [\n",
    "        charge.charge_id,\n",
    "        charge.created_at,\n",
    "        charge.amount,\n",
    "        charge.split_payby_amount,\n",
    "        charge.split_store_amount,\n",
    "        charge.payment_method,\n",
    "        charge.status,\n",
    "        charge.antifraud_status,\n",
    "        charge.antifraud_score,\n",
    "        \n",
    "        charge.pagarme_order_id,\n",
    "        charge.order_status,\n",
    "        \n",
    "        charge.pagarme_customer.pagarme_customer_id,\n",
    "        charge.pagarme_customer.name,\n",
    "        charge.pagarme_customer.document,\n",
    "        charge.pagarme_customer.email,\n",
    "        \n",
    "        charge.recipient_payby.pagarme_recipient_id if charge.recipient_payby else None,\n",
    "        charge.recipient_payby.name if charge.recipient_payby else None,\n",
    "        charge.recipient_store.pagarme_recipient_id if charge.recipient_store else None,\n",
    "        charge.recipient_store.name if charge.recipient_store else None,\n",
    "        charge.recipient_store.document if charge.recipient_store else None,\n",
    "        \n",
    "        charge.pagarme_pix_payer.name if charge.pagarme_pix_payer else None,\n",
    "        charge.pagarme_pix_payer.document if charge.pagarme_pix_payer else None,\n",
    "        charge.pagarme_pix_payer.bank_name if charge.pagarme_pix_payer else None,\n",
    "        \n",
    "        charge.pagarme_card.pagarme_card_id if charge.pagarme_card else None,\n",
    "        charge.pagarme_card.brand if charge.pagarme_card else None,\n",
    "        charge.pagarme_card.first_six_digits if charge.pagarme_card else None,\n",
    "        charge.pagarme_card.last_four_digits if charge.pagarme_card else None,\n",
    "        charge.pagarme_customer.name if charge.pagarme_customer else None,\n",
    "        \n",
    "        charge.payment.acquirer_message if charge.payment else None,\n",
    "        charge.payment.store.store_name if charge.payment and charge.payment.store else None,\n",
    "    ]\n",
    "    ws.append(row)"
   ]
  },
  {
   "cell_type": "code",
   "execution_count": 16,
   "metadata": {},
   "outputs": [
    {
     "data": {
      "text/plain": [
       "<__main__.ListNode at 0x124c54df0>"
      ]
     },
     "execution_count": 16,
     "metadata": {},
     "output_type": "execute_result"
    }
   ],
   "source": [
    "# Definition for singly-linked list.\n",
    "from collections import deque\n",
    "class ListNode:\n",
    "    def __init__(self, val=0, next=None):\n",
    "        self.val = val\n",
    "        self.next = next\n",
    "\n",
    "def addTwoNumbers(l1, l2):\n",
    "    n1 = deque()\n",
    "    n2 = deque()\n",
    "    first_number = 0\n",
    "    second_number = 0\n",
    "    count = 0\n",
    "    \n",
    "    while l1 != None:\n",
    "        n1.appendleft(l1.val)\n",
    "        first_number += (10 ** count) * l1.val\n",
    "        count += 1\n",
    "        l1 = l1.next\n",
    "\n",
    "    count = 0\n",
    "    while l2 != None:\n",
    "        n2.appendleft(l2.val)\n",
    "        second_number += (10 ** count) * l2.val\n",
    "        count += 1\n",
    "        l2 = l2.next\n",
    "    \n",
    "    result_number = first_number + second_number\n",
    "    # Create the head of the linked list from the last digit\n",
    "    actual_node = ListNode(int(str(result_number)[-1]))\n",
    "    head = actual_node  # Save the head node\n",
    "    \n",
    "    # Iterate through the rest of the digits in reverse order\n",
    "    for i, digit in enumerate(str(result_number)[::-1]):\n",
    "        if i == 0:\n",
    "            continue  # Skip the last digit as it's already used\n",
    "        next_node = ListNode(int(digit))\n",
    "        actual_node.next = next_node\n",
    "        actual_node = next_node\n",
    "    \n",
    "    return head\n",
    "            \n",
    "l1 = ListNode(2, ListNode(4, ListNode(3)))\n",
    "l2 = ListNode(5, ListNode(6, ListNode(4)))\n",
    "addTwoNumbers(l1,l2)"
   ]
  },
  {
   "cell_type": "code",
   "execution_count": 2,
   "metadata": {},
   "outputs": [
    {
     "data": {
      "text/plain": [
       "0"
      ]
     },
     "execution_count": 2,
     "metadata": {},
     "output_type": "execute_result"
    }
   ],
   "source": [
    "s = \"-\"\n",
    "def myAtoi(s: str) -> int:\n",
    "    possible_digits = set(map(str,range(0,10)))\n",
    "    s = s.strip()\n",
    "    is_negative = False if s[0] != '-' else True\n",
    "    s = s.lstrip('-') if is_negative else s\n",
    "    \n",
    "    if not s:\n",
    "            return 0\n",
    "        \n",
    "    string = \"\"\n",
    "    for letter in s:\n",
    "        if s[0] not in possible_digits and s[0] != '-':\n",
    "            return 0\n",
    "        if letter in possible_digits:\n",
    "            string += letter\n",
    "        else:\n",
    "            break\n",
    "\n",
    "    if int(string) > 2**31:\n",
    "        string = str(2**31)\n",
    "    if is_negative:\n",
    "        return -int(string)\n",
    "    return int(string)\n",
    "myAtoi(s)"
   ]
  },
  {
   "cell_type": "code",
   "execution_count": 24,
   "metadata": {},
   "outputs": [
    {
     "data": {
      "text/plain": [
       "0"
      ]
     },
     "execution_count": 24,
     "metadata": {},
     "output_type": "execute_result"
    }
   ],
   "source": [
    "def shortestBeautifulSubstring(s: str, k: int) -> str:\n",
    "        countDict = {\"1\": 0, \"0\" : 0}\n",
    "\n",
    "        l = 0\n",
    "        res = 0\n",
    "        for r in range(len(s)):\n",
    "            if countDict[\"1\"] == k and s[r] == \"1\":\n",
    "                while countDict[\"1\"] == k:\n",
    "                    countDict[s[l]] -= 1\n",
    "                    l += 1\n",
    "            res = max(res, r - l + 1)\n",
    "            countDict[s[r]] += 1\n",
    "\n",
    "        return res\n",
    "shortestBeautifulSubstring('110001100011001', 2)"
   ]
  },
  {
   "cell_type": "code",
   "execution_count": 20,
   "metadata": {},
   "outputs": [
    {
     "data": {
      "text/plain": [
       "'11001'"
      ]
     },
     "execution_count": 20,
     "metadata": {},
     "output_type": "execute_result"
    }
   ],
   "source": [
    "def shortestBeautifulSubstring(s: str, k: int) -> str: \n",
    "        l = 0\n",
    "        res = \"\"\n",
    "        count = 0\n",
    "        for r in range(len(s)):\n",
    "            count += 1 if s[r] == \"1\" else 0\n",
    "            while count == k:\n",
    "                temp_window = s[l:r+1]\n",
    "                res = min(res, temp_window, key=lambda x: (len(x), x)) if res else temp_window\n",
    "                count -= 1 if s[l] == \"1\" else 0\n",
    "                l += 1\n",
    "            \n",
    "            \n",
    "        \n",
    "        return res\n",
    "shortestBeautifulSubstring('100011001', 3)"
   ]
  },
  {
   "cell_type": "code",
   "execution_count": 38,
   "metadata": {},
   "outputs": [
    {
     "data": {
      "text/plain": [
       "5"
      ]
     },
     "execution_count": 38,
     "metadata": {},
     "output_type": "execute_result"
    }
   ],
   "source": [
    "\n",
    "dictCount = {\n",
    "    \"L\" : 0, \n",
    "    \"R\" : 0,\n",
    "    \"_\" : 0,\n",
    "}\n",
    "\n",
    "for letter in \"_R__LL_\":\n",
    "    dictCount[letter] += 1\n",
    "    \n",
    "nullLetter = dictCount.pop(\"_\")\n",
    "\n",
    "maxLetter = max(dictCount, key=dictCount.get)\n",
    "dictCount[maxLetter] += nullLetter\n",
    "abs(dictCount[\"L\"] - dictCount[\"R\"])"
   ]
  }
 ],
 "metadata": {
  "kernelspec": {
   "display_name": "alura-E4ruPWNJ",
   "language": "python",
   "name": "python3"
  },
  "language_info": {
   "codemirror_mode": {
    "name": "ipython",
    "version": 3
   },
   "file_extension": ".py",
   "mimetype": "text/x-python",
   "name": "python",
   "nbconvert_exporter": "python",
   "pygments_lexer": "ipython3",
   "version": "3.8.10"
  }
 },
 "nbformat": 4,
 "nbformat_minor": 2
}
